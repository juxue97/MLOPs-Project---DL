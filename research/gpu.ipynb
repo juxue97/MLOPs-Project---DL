{
 "cells": [
  {
   "cell_type": "code",
   "execution_count": 1,
   "metadata": {},
   "outputs": [
    {
     "name": "stdout",
     "output_type": "stream",
     "text": [
      "AMD64\n"
     ]
    }
   ],
   "source": [
    "import platform\n",
    "print(platform.machine())\n"
   ]
  },
  {
   "cell_type": "code",
   "execution_count": 2,
   "metadata": {},
   "outputs": [
    {
     "name": "stdout",
     "output_type": "stream",
     "text": [
      "Number of GPU:  1\n",
      "GPU Name:  NVIDIA GeForce RTX 2060\n",
      "Using device: cuda\n"
     ]
    }
   ],
   "source": [
    "import torch\n",
    "\n",
    "print(\"Number of GPU: \", torch.cuda.device_count())\n",
    "print(\"GPU Name: \", torch.cuda.get_device_name())\n",
    "\n",
    "\n",
    "device = torch.device('cuda' if torch.cuda.is_available() else 'cpu')\n",
    "print('Using device:', device)"
   ]
  },
  {
   "cell_type": "code",
   "execution_count": 3,
   "metadata": {},
   "outputs": [
    {
     "name": "stdout",
     "output_type": "stream",
     "text": [
      "CUDA Available: True\n",
      "Current GPU: 0\n",
      "GPU Memory Allocated: 0.0 MB\n",
      "GPU Memory Cached: 0.0 MB\n"
     ]
    }
   ],
   "source": [
    "print(\"CUDA Available:\", torch.cuda.is_available())\n",
    "print(\"Current GPU:\", torch.cuda.current_device())\n",
    "print(\"GPU Memory Allocated:\", torch.cuda.memory_allocated() / 1024**2, \"MB\")\n",
    "print(\"GPU Memory Cached:\", torch.cuda.memory_reserved() / 1024**2, \"MB\")"
   ]
  },
  {
   "cell_type": "code",
   "execution_count": 4,
   "metadata": {},
   "outputs": [
    {
     "name": "stdout",
     "output_type": "stream",
     "text": [
      "Tensor on GPU: tensor([[0.1331, 0.8529, 0.1293],\n",
      "        [0.3817, 0.6938, 0.1101],\n",
      "        [0.6866, 0.7192, 0.0525]], device='cuda:0')\n",
      "GPU Memory Allocated: 0.00048828125 MB\n",
      "GPU Memory Cached: 2.0 MB\n"
     ]
    }
   ],
   "source": [
    "import torch\n",
    "\n",
    "# Create a tensor and move it to GPU\n",
    "x = torch.rand(3, 3).to(\"cuda\")\n",
    "\n",
    "print(\"Tensor on GPU:\", x)\n",
    "print(\"GPU Memory Allocated:\", torch.cuda.memory_allocated() / 1024**2, \"MB\")\n",
    "print(\"GPU Memory Cached:\", torch.cuda.memory_reserved() / 1024**2, \"MB\")"
   ]
  }
 ],
 "metadata": {
  "kernelspec": {
   "display_name": "venv",
   "language": "python",
   "name": "python3"
  },
  "language_info": {
   "codemirror_mode": {
    "name": "ipython",
    "version": 3
   },
   "file_extension": ".py",
   "mimetype": "text/x-python",
   "name": "python",
   "nbconvert_exporter": "python",
   "pygments_lexer": "ipython3",
   "version": "3.11.6"
  }
 },
 "nbformat": 4,
 "nbformat_minor": 2
}
